{
 "cells": [
  {
   "cell_type": "code",
   "execution_count": 38,
   "metadata": {},
   "outputs": [],
   "source": [
    "import pandas as pd\n",
    "import numpy as np"
   ]
  },
  {
   "cell_type": "code",
   "execution_count": 39,
   "id": "1e1aea11",
   "metadata": {},
   "outputs": [],
   "source": [
    "jharkhand_migration = pd.read_csv(\"jharkhand_migration.csv\")\n",
    "jharkhand_migration = jharkhand_migration.copy()"
   ]
  },
  {
   "cell_type": "code",
   "execution_count": 40,
   "id": "5d20b1cf",
   "metadata": {},
   "outputs": [
    {
     "data": {
      "text/html": [
       "<div>\n",
       "<style scoped>\n",
       "    .dataframe tbody tr th:only-of-type {\n",
       "        vertical-align: middle;\n",
       "    }\n",
       "\n",
       "    .dataframe tbody tr th {\n",
       "        vertical-align: top;\n",
       "    }\n",
       "\n",
       "    .dataframe thead th {\n",
       "        text-align: right;\n",
       "    }\n",
       "</style>\n",
       "<table border=\"1\" class=\"dataframe\">\n",
       "  <thead>\n",
       "    <tr style=\"text-align: right;\">\n",
       "      <th></th>\n",
       "      <th>Sl#</th>\n",
       "      <th>Date</th>\n",
       "      <th>Name</th>\n",
       "      <th>Gender</th>\n",
       "      <th>Age</th>\n",
       "      <th>Occupation</th>\n",
       "      <th>State</th>\n",
       "      <th>District</th>\n",
       "      <th>Unnamed: 8</th>\n",
       "      <th>Unnamed: 9</th>\n",
       "      <th>Total ppl count</th>\n",
       "      <th>Males</th>\n",
       "      <th>Females</th>\n",
       "      <th>Pregnant</th>\n",
       "      <th>Breastfeeding</th>\n",
       "      <th>Jharkhand District</th>\n",
       "      <th>Village/ City</th>\n",
       "      <th>Panchayat/ward</th>\n",
       "      <th>Gram</th>\n",
       "      <th>Area</th>\n",
       "    </tr>\n",
       "  </thead>\n",
       "  <tbody>\n",
       "    <tr>\n",
       "      <th>0</th>\n",
       "      <td>1</td>\n",
       "      <td>2020/05/02 6:20:42 PM GMT+5:30</td>\n",
       "      <td>&lt;scrubbed&gt;</td>\n",
       "      <td>male</td>\n",
       "      <td>30</td>\n",
       "      <td>NaN</td>\n",
       "      <td>Karnataka</td>\n",
       "      <td>Bangalore Urban</td>\n",
       "      <td>NaN</td>\n",
       "      <td>NaN</td>\n",
       "      <td>2</td>\n",
       "      <td>2</td>\n",
       "      <td>0</td>\n",
       "      <td>0</td>\n",
       "      <td>0</td>\n",
       "      <td>West Singhbhum</td>\n",
       "      <td>Sadar Chaibasa</td>\n",
       "      <td>Bai Simbia Ward 10</td>\n",
       "      <td>Bai Simbia Po-Bara Guira Ps-muffasil</td>\n",
       "      <td>Chaibasa</td>\n",
       "    </tr>\n",
       "    <tr>\n",
       "      <th>1</th>\n",
       "      <td>2</td>\n",
       "      <td>2020/05/02 6:28:50 PM GMT+5:30</td>\n",
       "      <td>&lt;scrubbed&gt;</td>\n",
       "      <td>male</td>\n",
       "      <td>39</td>\n",
       "      <td>NaN</td>\n",
       "      <td>Karnataka</td>\n",
       "      <td>Udupi</td>\n",
       "      <td>NaN</td>\n",
       "      <td>NaN</td>\n",
       "      <td>1</td>\n",
       "      <td>1</td>\n",
       "      <td>0</td>\n",
       "      <td>0</td>\n",
       "      <td>0</td>\n",
       "      <td>West Singhbhum</td>\n",
       "      <td>Tantnagar</td>\n",
       "      <td>Khathbhari</td>\n",
       "      <td>Pendargariya</td>\n",
       "      <td>0</td>\n",
       "    </tr>\n",
       "    <tr>\n",
       "      <th>2</th>\n",
       "      <td>3</td>\n",
       "      <td>2020/05/02 6:49:54 PM GMT+5:30</td>\n",
       "      <td>&lt;scrubbed&gt;</td>\n",
       "      <td>male</td>\n",
       "      <td>39</td>\n",
       "      <td>NaN</td>\n",
       "      <td>Karnataka</td>\n",
       "      <td>Bangalore Urban</td>\n",
       "      <td>NaN</td>\n",
       "      <td>NaN</td>\n",
       "      <td>1</td>\n",
       "      <td>1</td>\n",
       "      <td>0</td>\n",
       "      <td>0</td>\n",
       "      <td>0</td>\n",
       "      <td>West Singhbhum</td>\n",
       "      <td>Chaibasa</td>\n",
       "      <td>Pataguira</td>\n",
       "      <td>0</td>\n",
       "      <td>0</td>\n",
       "    </tr>\n",
       "  </tbody>\n",
       "</table>\n",
       "</div>"
      ],
      "text/plain": [
       "   Sl#                            Date        Name Gender  Age Occupation  \\\n",
       "0    1  2020/05/02 6:20:42 PM GMT+5:30  <scrubbed>   male   30        NaN   \n",
       "1    2  2020/05/02 6:28:50 PM GMT+5:30  <scrubbed>   male   39        NaN   \n",
       "2    3  2020/05/02 6:49:54 PM GMT+5:30  <scrubbed>   male   39        NaN   \n",
       "\n",
       "       State         District  Unnamed: 8  Unnamed: 9  Total ppl count  Males  \\\n",
       "0  Karnataka  Bangalore Urban         NaN         NaN                2      2   \n",
       "1  Karnataka            Udupi         NaN         NaN                1      1   \n",
       "2  Karnataka  Bangalore Urban         NaN         NaN                1      1   \n",
       "\n",
       "   Females  Pregnant  Breastfeeding Jharkhand District   Village/ City  \\\n",
       "0        0         0              0     West Singhbhum  Sadar Chaibasa   \n",
       "1        0         0              0     West Singhbhum       Tantnagar   \n",
       "2        0         0              0     West Singhbhum        Chaibasa   \n",
       "\n",
       "       Panchayat/ward                                  Gram      Area  \n",
       "0  Bai Simbia Ward 10  Bai Simbia Po-Bara Guira Ps-muffasil  Chaibasa  \n",
       "1          Khathbhari                          Pendargariya         0  \n",
       "2           Pataguira                                     0         0  "
      ]
     },
     "execution_count": 40,
     "metadata": {},
     "output_type": "execute_result"
    }
   ],
   "source": [
    "jharkhand_migration.head(3)"
   ]
  },
  {
   "cell_type": "code",
   "execution_count": 56,
   "id": "70e7b8a3",
   "metadata": {},
   "outputs": [],
   "source": [
    "jharkhand_migration = jharkhand_migration.drop([\"Name\",\"Date\",\"Unnamed: 8\",\"Unnamed: 9\",\"Area\",\"Sl#\"],axis = 1)"
   ]
  },
  {
   "cell_type": "code",
   "execution_count": 57,
   "id": "de4cccf2",
   "metadata": {},
   "outputs": [
    {
     "data": {
      "text/plain": [
       "Index(['Gender', 'Age', 'Occupation', 'State', 'District', 'Total ppl count',\n",
       "       'Males', 'Females', 'Pregnant', 'Breastfeeding', 'Jharkhand District',\n",
       "       'Village/ City', 'Panchayat/ward', 'Gram'],\n",
       "      dtype='object')"
      ]
     },
     "execution_count": 57,
     "metadata": {},
     "output_type": "execute_result"
    }
   ],
   "source": [
    "jharkhand_migration.columns"
   ]
  },
  {
   "cell_type": "code",
   "execution_count": 58,
   "id": "642781d7",
   "metadata": {},
   "outputs": [
    {
     "data": {
      "text/html": [
       "<div>\n",
       "<style scoped>\n",
       "    .dataframe tbody tr th:only-of-type {\n",
       "        vertical-align: middle;\n",
       "    }\n",
       "\n",
       "    .dataframe tbody tr th {\n",
       "        vertical-align: top;\n",
       "    }\n",
       "\n",
       "    .dataframe thead th {\n",
       "        text-align: right;\n",
       "    }\n",
       "</style>\n",
       "<table border=\"1\" class=\"dataframe\">\n",
       "  <thead>\n",
       "    <tr style=\"text-align: right;\">\n",
       "      <th></th>\n",
       "      <th>Age</th>\n",
       "      <th>Total ppl count</th>\n",
       "      <th>Males</th>\n",
       "      <th>Females</th>\n",
       "      <th>Pregnant</th>\n",
       "      <th>Breastfeeding</th>\n",
       "    </tr>\n",
       "  </thead>\n",
       "  <tbody>\n",
       "    <tr>\n",
       "      <th>count</th>\n",
       "      <td>52102.000000</td>\n",
       "      <td>52102.000000</td>\n",
       "      <td>52102.000000</td>\n",
       "      <td>52102.000000</td>\n",
       "      <td>52102.000000</td>\n",
       "      <td>52102.000000</td>\n",
       "    </tr>\n",
       "    <tr>\n",
       "      <th>mean</th>\n",
       "      <td>26.991632</td>\n",
       "      <td>1.915320</td>\n",
       "      <td>1.641914</td>\n",
       "      <td>0.234425</td>\n",
       "      <td>0.035738</td>\n",
       "      <td>0.066120</td>\n",
       "    </tr>\n",
       "    <tr>\n",
       "      <th>std</th>\n",
       "      <td>7.928700</td>\n",
       "      <td>0.974605</td>\n",
       "      <td>0.940038</td>\n",
       "      <td>0.537079</td>\n",
       "      <td>0.299435</td>\n",
       "      <td>0.360717</td>\n",
       "    </tr>\n",
       "    <tr>\n",
       "      <th>min</th>\n",
       "      <td>10.000000</td>\n",
       "      <td>1.000000</td>\n",
       "      <td>0.000000</td>\n",
       "      <td>0.000000</td>\n",
       "      <td>0.000000</td>\n",
       "      <td>0.000000</td>\n",
       "    </tr>\n",
       "    <tr>\n",
       "      <th>25%</th>\n",
       "      <td>21.000000</td>\n",
       "      <td>1.000000</td>\n",
       "      <td>1.000000</td>\n",
       "      <td>0.000000</td>\n",
       "      <td>0.000000</td>\n",
       "      <td>0.000000</td>\n",
       "    </tr>\n",
       "    <tr>\n",
       "      <th>50%</th>\n",
       "      <td>25.000000</td>\n",
       "      <td>2.000000</td>\n",
       "      <td>2.000000</td>\n",
       "      <td>0.000000</td>\n",
       "      <td>0.000000</td>\n",
       "      <td>0.000000</td>\n",
       "    </tr>\n",
       "    <tr>\n",
       "      <th>75%</th>\n",
       "      <td>30.000000</td>\n",
       "      <td>2.000000</td>\n",
       "      <td>2.000000</td>\n",
       "      <td>0.000000</td>\n",
       "      <td>0.000000</td>\n",
       "      <td>0.000000</td>\n",
       "    </tr>\n",
       "    <tr>\n",
       "      <th>max</th>\n",
       "      <td>97.000000</td>\n",
       "      <td>7.000000</td>\n",
       "      <td>7.000000</td>\n",
       "      <td>7.000000</td>\n",
       "      <td>6.000000</td>\n",
       "      <td>6.000000</td>\n",
       "    </tr>\n",
       "  </tbody>\n",
       "</table>\n",
       "</div>"
      ],
      "text/plain": [
       "                Age  Total ppl count         Males       Females  \\\n",
       "count  52102.000000     52102.000000  52102.000000  52102.000000   \n",
       "mean      26.991632         1.915320      1.641914      0.234425   \n",
       "std        7.928700         0.974605      0.940038      0.537079   \n",
       "min       10.000000         1.000000      0.000000      0.000000   \n",
       "25%       21.000000         1.000000      1.000000      0.000000   \n",
       "50%       25.000000         2.000000      2.000000      0.000000   \n",
       "75%       30.000000         2.000000      2.000000      0.000000   \n",
       "max       97.000000         7.000000      7.000000      7.000000   \n",
       "\n",
       "           Pregnant  Breastfeeding  \n",
       "count  52102.000000   52102.000000  \n",
       "mean       0.035738       0.066120  \n",
       "std        0.299435       0.360717  \n",
       "min        0.000000       0.000000  \n",
       "25%        0.000000       0.000000  \n",
       "50%        0.000000       0.000000  \n",
       "75%        0.000000       0.000000  \n",
       "max        6.000000       6.000000  "
      ]
     },
     "execution_count": 58,
     "metadata": {},
     "output_type": "execute_result"
    }
   ],
   "source": [
    "# 75% IS AROUND 30 \n",
    "# All other are categorical\n",
    "jharkhand_migration.describe()"
   ]
  },
  {
   "cell_type": "code",
   "execution_count": 59,
   "id": "76131c65",
   "metadata": {},
   "outputs": [
    {
     "data": {
      "text/plain": [
       "Gender                object\n",
       "Age                    int64\n",
       "Occupation            object\n",
       "State                 object\n",
       "District              object\n",
       "Total ppl count        int64\n",
       "Males                  int64\n",
       "Females                int64\n",
       "Pregnant               int64\n",
       "Breastfeeding          int64\n",
       "Jharkhand District    object\n",
       "Village/ City         object\n",
       "Panchayat/ward        object\n",
       "Gram                  object\n",
       "dtype: object"
      ]
     },
     "execution_count": 59,
     "metadata": {},
     "output_type": "execute_result"
    }
   ],
   "source": [
    "jharkhand_migration.dtypes"
   ]
  },
  {
   "cell_type": "code",
   "execution_count": 60,
   "id": "a43017a0",
   "metadata": {},
   "outputs": [
    {
     "data": {
      "text/html": [
       "<div>\n",
       "<style scoped>\n",
       "    .dataframe tbody tr th:only-of-type {\n",
       "        vertical-align: middle;\n",
       "    }\n",
       "\n",
       "    .dataframe tbody tr th {\n",
       "        vertical-align: top;\n",
       "    }\n",
       "\n",
       "    .dataframe thead th {\n",
       "        text-align: right;\n",
       "    }\n",
       "</style>\n",
       "<table border=\"1\" class=\"dataframe\">\n",
       "  <thead>\n",
       "    <tr style=\"text-align: right;\">\n",
       "      <th></th>\n",
       "      <th>Gender</th>\n",
       "      <th>Age</th>\n",
       "      <th>Occupation</th>\n",
       "      <th>State</th>\n",
       "      <th>District</th>\n",
       "      <th>Total ppl count</th>\n",
       "      <th>Males</th>\n",
       "      <th>Females</th>\n",
       "      <th>Pregnant</th>\n",
       "      <th>Breastfeeding</th>\n",
       "      <th>Jharkhand District</th>\n",
       "      <th>Village/ City</th>\n",
       "      <th>Panchayat/ward</th>\n",
       "      <th>Gram</th>\n",
       "    </tr>\n",
       "  </thead>\n",
       "  <tbody>\n",
       "    <tr>\n",
       "      <th>0</th>\n",
       "      <td>male</td>\n",
       "      <td>30</td>\n",
       "      <td>NaN</td>\n",
       "      <td>Karnataka</td>\n",
       "      <td>Bangalore Urban</td>\n",
       "      <td>2</td>\n",
       "      <td>2</td>\n",
       "      <td>0</td>\n",
       "      <td>0</td>\n",
       "      <td>0</td>\n",
       "      <td>West Singhbhum</td>\n",
       "      <td>Sadar Chaibasa</td>\n",
       "      <td>Bai Simbia Ward 10</td>\n",
       "      <td>Bai Simbia Po-Bara Guira Ps-muffasil</td>\n",
       "    </tr>\n",
       "    <tr>\n",
       "      <th>1</th>\n",
       "      <td>male</td>\n",
       "      <td>39</td>\n",
       "      <td>NaN</td>\n",
       "      <td>Karnataka</td>\n",
       "      <td>Udupi</td>\n",
       "      <td>1</td>\n",
       "      <td>1</td>\n",
       "      <td>0</td>\n",
       "      <td>0</td>\n",
       "      <td>0</td>\n",
       "      <td>West Singhbhum</td>\n",
       "      <td>Tantnagar</td>\n",
       "      <td>Khathbhari</td>\n",
       "      <td>Pendargariya</td>\n",
       "    </tr>\n",
       "    <tr>\n",
       "      <th>2</th>\n",
       "      <td>male</td>\n",
       "      <td>39</td>\n",
       "      <td>NaN</td>\n",
       "      <td>Karnataka</td>\n",
       "      <td>Bangalore Urban</td>\n",
       "      <td>1</td>\n",
       "      <td>1</td>\n",
       "      <td>0</td>\n",
       "      <td>0</td>\n",
       "      <td>0</td>\n",
       "      <td>West Singhbhum</td>\n",
       "      <td>Chaibasa</td>\n",
       "      <td>Pataguira</td>\n",
       "      <td>0</td>\n",
       "    </tr>\n",
       "    <tr>\n",
       "      <th>3</th>\n",
       "      <td>male</td>\n",
       "      <td>38</td>\n",
       "      <td>NaN</td>\n",
       "      <td>Karnataka</td>\n",
       "      <td>Bangalore Urban</td>\n",
       "      <td>1</td>\n",
       "      <td>1</td>\n",
       "      <td>0</td>\n",
       "      <td>0</td>\n",
       "      <td>0</td>\n",
       "      <td>West Singhbhum</td>\n",
       "      <td>kumardungi</td>\n",
       "      <td>chhota raikaman</td>\n",
       "      <td>badupi ,chhota raikaman,po-andhari</td>\n",
       "    </tr>\n",
       "    <tr>\n",
       "      <th>4</th>\n",
       "      <td>male</td>\n",
       "      <td>56</td>\n",
       "      <td>NaN</td>\n",
       "      <td>Karnataka</td>\n",
       "      <td>Bangalore Urban</td>\n",
       "      <td>1</td>\n",
       "      <td>1</td>\n",
       "      <td>0</td>\n",
       "      <td>0</td>\n",
       "      <td>0</td>\n",
       "      <td>West Singhbhum</td>\n",
       "      <td>manjhari</td>\n",
       "      <td>manjhari</td>\n",
       "      <td>gitilpi demkapada</td>\n",
       "    </tr>\n",
       "  </tbody>\n",
       "</table>\n",
       "</div>"
      ],
      "text/plain": [
       "  Gender  Age Occupation      State         District  Total ppl count  Males  \\\n",
       "0   male   30        NaN  Karnataka  Bangalore Urban                2      2   \n",
       "1   male   39        NaN  Karnataka            Udupi                1      1   \n",
       "2   male   39        NaN  Karnataka  Bangalore Urban                1      1   \n",
       "3   male   38        NaN  Karnataka  Bangalore Urban                1      1   \n",
       "4   male   56        NaN  Karnataka  Bangalore Urban                1      1   \n",
       "\n",
       "   Females  Pregnant  Breastfeeding Jharkhand District   Village/ City  \\\n",
       "0        0         0              0     West Singhbhum  Sadar Chaibasa   \n",
       "1        0         0              0     West Singhbhum       Tantnagar   \n",
       "2        0         0              0     West Singhbhum        Chaibasa   \n",
       "3        0         0              0     West Singhbhum      kumardungi   \n",
       "4        0         0              0     West Singhbhum        manjhari   \n",
       "\n",
       "       Panchayat/ward                                  Gram  \n",
       "0  Bai Simbia Ward 10  Bai Simbia Po-Bara Guira Ps-muffasil  \n",
       "1          Khathbhari                          Pendargariya  \n",
       "2           Pataguira                                     0  \n",
       "3     chhota raikaman    badupi ,chhota raikaman,po-andhari  \n",
       "4            manjhari                     gitilpi demkapada  "
      ]
     },
     "execution_count": 60,
     "metadata": {},
     "output_type": "execute_result"
    }
   ],
   "source": [
    "# Convert 0,1 into categorical\n",
    "# Convert Age into age brackets \n",
    "# Look for occupation \n",
    "\n",
    "jharkhand_migration.head()"
   ]
  },
  {
   "cell_type": "code",
   "execution_count": 61,
   "id": "3d364059",
   "metadata": {},
   "outputs": [
    {
     "data": {
      "text/plain": [
       "array([nan, 'Migrant Worker', 'Other Professional', 'Student', 'Tourist'],\n",
       "      dtype=object)"
      ]
     },
     "execution_count": 61,
     "metadata": {},
     "output_type": "execute_result"
    }
   ],
   "source": [
    "jharkhand_migration[\"Occupation\"].unique()"
   ]
  },
  {
   "cell_type": "code",
   "execution_count": 62,
   "id": "2a5e426f",
   "metadata": {},
   "outputs": [
    {
     "data": {
      "text/plain": [
       "Migrant Worker        42207\n",
       "Student                1792\n",
       "Other Professional     1702\n",
       "Tourist                 474\n",
       "Name: Occupation, dtype: int64"
      ]
     },
     "execution_count": 62,
     "metadata": {},
     "output_type": "execute_result"
    }
   ],
   "source": [
    "# I can look for proportions of students and migrant workers out of them \n",
    "jharkhand_migration[\"Occupation\"].value_counts()"
   ]
  },
  {
   "cell_type": "code",
   "execution_count": 63,
   "id": "9f0593cd",
   "metadata": {},
   "outputs": [
    {
     "data": {
      "text/plain": [
       "12214"
      ]
     },
     "execution_count": 63,
     "metadata": {},
     "output_type": "execute_result"
    }
   ],
   "source": [
    "# Their are more female migranted as a result of displacement than male \n",
    "jharkhand_migration[\"Males\"].sum()\n",
    "jharkhand_migration[\"Females\"].sum()"
   ]
  },
  {
   "cell_type": "code",
   "execution_count": 64,
   "id": "90edfbbc",
   "metadata": {},
   "outputs": [
    {
     "data": {
      "text/plain": [
       "male      49163\n",
       "female     2873\n",
       "Other        34\n",
       "Name: Gender, dtype: int64"
      ]
     },
     "execution_count": 64,
     "metadata": {},
     "output_type": "execute_result"
    }
   ],
   "source": [
    "# No of migrants that gave information were more males than females\n",
    "jharkhand_migration[\"Gender\"].value_counts(\"\")"
   ]
  },
  {
   "cell_type": "code",
   "execution_count": 69,
   "id": "4c442acd",
   "metadata": {},
   "outputs": [],
   "source": [
    "# Lets see how many migrants are breastfeedings\n",
    "jharkhand_migration[\"Breastfeeding\"] = jharkhand_migration[\"Breastfeeding\"].replace([\"Yes\",\"No\"],[1,2])"
   ]
  },
  {
   "cell_type": "code",
   "execution_count": null,
   "id": "6774be8b",
   "metadata": {},
   "outputs": [],
   "source": [
    "# Group by Clause in Python to get the sum of women "
   ]
  },
  {
   "cell_type": "code",
   "execution_count": 73,
   "id": "96631177",
   "metadata": {},
   "outputs": [],
   "source": [
    "sum_of_breastfeeding = jharkhand_migration[\"Breastfeeding\"].sum()"
   ]
  },
  {
   "cell_type": "code",
   "execution_count": null,
   "id": "2a83dc09",
   "metadata": {},
   "outputs": [],
   "source": [
    "# Calculating the percentage of women breastfeeding \n",
    "Percentage_of_women =  sum_of_breastfeeding/"
   ]
  }
 ],
 "metadata": {
  "kernelspec": {
   "display_name": "base",
   "language": "python",
   "name": "python3"
  },
  "language_info": {
   "codemirror_mode": {
    "name": "ipython",
    "version": 3
   },
   "file_extension": ".py",
   "mimetype": "text/x-python",
   "name": "python",
   "nbconvert_exporter": "python",
   "pygments_lexer": "ipython3",
   "version": "3.9.12"
  },
  "vscode": {
   "interpreter": {
    "hash": "131f3d18372c23bc9956e159b8761a89791000b12ee129af51759eac7b6e0517"
   }
  }
 },
 "nbformat": 4,
 "nbformat_minor": 5
}
