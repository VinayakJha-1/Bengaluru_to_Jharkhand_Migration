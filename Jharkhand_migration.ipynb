{
 "cells": [
  {
   "cell_type": "code",
   "execution_count": 2,
   "metadata": {},
   "outputs": [],
   "source": [
    "import pandas as pd\n",
    "import numpy as np"
   ]
  },
  {
   "cell_type": "code",
   "execution_count": 8,
   "id": "1e1aea11",
   "metadata": {},
   "outputs": [],
   "source": [
    "jharkhand_migration = pd.read_csv(\"jharkhand_migration.csv\")\n",
    "jharkhand_migration = jharkhand_migration.copy()"
   ]
  },
  {
   "cell_type": "code",
   "execution_count": 9,
   "id": "5d20b1cf",
   "metadata": {},
   "outputs": [
    {
     "data": {
      "text/html": [
       "<div>\n",
       "<style scoped>\n",
       "    .dataframe tbody tr th:only-of-type {\n",
       "        vertical-align: middle;\n",
       "    }\n",
       "\n",
       "    .dataframe tbody tr th {\n",
       "        vertical-align: top;\n",
       "    }\n",
       "\n",
       "    .dataframe thead th {\n",
       "        text-align: right;\n",
       "    }\n",
       "</style>\n",
       "<table border=\"1\" class=\"dataframe\">\n",
       "  <thead>\n",
       "    <tr style=\"text-align: right;\">\n",
       "      <th></th>\n",
       "      <th>Sl#</th>\n",
       "      <th>Date</th>\n",
       "      <th>Name</th>\n",
       "      <th>Gender</th>\n",
       "      <th>Age</th>\n",
       "      <th>Occupation</th>\n",
       "      <th>State</th>\n",
       "      <th>District</th>\n",
       "      <th>Unnamed: 8</th>\n",
       "      <th>Unnamed: 9</th>\n",
       "      <th>Total ppl count</th>\n",
       "      <th>Males</th>\n",
       "      <th>Females</th>\n",
       "      <th>Pregnant</th>\n",
       "      <th>Breastfeeding</th>\n",
       "      <th>Jharkhand District</th>\n",
       "      <th>Village/ City</th>\n",
       "      <th>Panchayat/ward</th>\n",
       "      <th>Gram</th>\n",
       "      <th>Area</th>\n",
       "    </tr>\n",
       "  </thead>\n",
       "  <tbody>\n",
       "    <tr>\n",
       "      <th>0</th>\n",
       "      <td>1</td>\n",
       "      <td>2020/05/02 6:20:42 PM GMT+5:30</td>\n",
       "      <td>&lt;scrubbed&gt;</td>\n",
       "      <td>male</td>\n",
       "      <td>30</td>\n",
       "      <td>NaN</td>\n",
       "      <td>Karnataka</td>\n",
       "      <td>Bangalore Urban</td>\n",
       "      <td>NaN</td>\n",
       "      <td>NaN</td>\n",
       "      <td>2</td>\n",
       "      <td>2</td>\n",
       "      <td>0</td>\n",
       "      <td>0</td>\n",
       "      <td>0</td>\n",
       "      <td>West Singhbhum</td>\n",
       "      <td>Sadar Chaibasa</td>\n",
       "      <td>Bai Simbia Ward 10</td>\n",
       "      <td>Bai Simbia Po-Bara Guira Ps-muffasil</td>\n",
       "      <td>Chaibasa</td>\n",
       "    </tr>\n",
       "    <tr>\n",
       "      <th>1</th>\n",
       "      <td>2</td>\n",
       "      <td>2020/05/02 6:28:50 PM GMT+5:30</td>\n",
       "      <td>&lt;scrubbed&gt;</td>\n",
       "      <td>male</td>\n",
       "      <td>39</td>\n",
       "      <td>NaN</td>\n",
       "      <td>Karnataka</td>\n",
       "      <td>Udupi</td>\n",
       "      <td>NaN</td>\n",
       "      <td>NaN</td>\n",
       "      <td>1</td>\n",
       "      <td>1</td>\n",
       "      <td>0</td>\n",
       "      <td>0</td>\n",
       "      <td>0</td>\n",
       "      <td>West Singhbhum</td>\n",
       "      <td>Tantnagar</td>\n",
       "      <td>Khathbhari</td>\n",
       "      <td>Pendargariya</td>\n",
       "      <td>0</td>\n",
       "    </tr>\n",
       "    <tr>\n",
       "      <th>2</th>\n",
       "      <td>3</td>\n",
       "      <td>2020/05/02 6:49:54 PM GMT+5:30</td>\n",
       "      <td>&lt;scrubbed&gt;</td>\n",
       "      <td>male</td>\n",
       "      <td>39</td>\n",
       "      <td>NaN</td>\n",
       "      <td>Karnataka</td>\n",
       "      <td>Bangalore Urban</td>\n",
       "      <td>NaN</td>\n",
       "      <td>NaN</td>\n",
       "      <td>1</td>\n",
       "      <td>1</td>\n",
       "      <td>0</td>\n",
       "      <td>0</td>\n",
       "      <td>0</td>\n",
       "      <td>West Singhbhum</td>\n",
       "      <td>Chaibasa</td>\n",
       "      <td>Pataguira</td>\n",
       "      <td>0</td>\n",
       "      <td>0</td>\n",
       "    </tr>\n",
       "  </tbody>\n",
       "</table>\n",
       "</div>"
      ],
      "text/plain": [
       "   Sl#                            Date        Name Gender  Age Occupation  \\\n",
       "0    1  2020/05/02 6:20:42 PM GMT+5:30  <scrubbed>   male   30        NaN   \n",
       "1    2  2020/05/02 6:28:50 PM GMT+5:30  <scrubbed>   male   39        NaN   \n",
       "2    3  2020/05/02 6:49:54 PM GMT+5:30  <scrubbed>   male   39        NaN   \n",
       "\n",
       "       State         District  Unnamed: 8  Unnamed: 9  Total ppl count  Males  \\\n",
       "0  Karnataka  Bangalore Urban         NaN         NaN                2      2   \n",
       "1  Karnataka            Udupi         NaN         NaN                1      1   \n",
       "2  Karnataka  Bangalore Urban         NaN         NaN                1      1   \n",
       "\n",
       "   Females  Pregnant  Breastfeeding Jharkhand District   Village/ City  \\\n",
       "0        0         0              0     West Singhbhum  Sadar Chaibasa   \n",
       "1        0         0              0     West Singhbhum       Tantnagar   \n",
       "2        0         0              0     West Singhbhum        Chaibasa   \n",
       "\n",
       "       Panchayat/ward                                  Gram      Area  \n",
       "0  Bai Simbia Ward 10  Bai Simbia Po-Bara Guira Ps-muffasil  Chaibasa  \n",
       "1          Khathbhari                          Pendargariya         0  \n",
       "2           Pataguira                                     0         0  "
      ]
     },
     "execution_count": 9,
     "metadata": {},
     "output_type": "execute_result"
    }
   ],
   "source": [
    "jharkhand_migration.head(3)"
   ]
  },
  {
   "cell_type": "code",
   "execution_count": 10,
   "id": "70e7b8a3",
   "metadata": {},
   "outputs": [
    {
     "name": "stderr",
     "output_type": "stream",
     "text": [
      "c:\\Users\\vinay\\anaconda3\\lib\\site-packages\\pandas\\core\\indexes\\base.py:5055: FutureWarning: Using a non-tuple sequence for multidimensional indexing is deprecated; use `arr[tuple(seq)]` instead of `arr[seq]`. In the future this will be interpreted as an array index, `arr[np.array(seq)]`, which will result either in an error or a different result.\n",
      "  result = getitem(key)\n"
     ]
    },
    {
     "ename": "IndexError",
     "evalue": "only integers, slices (`:`), ellipsis (`...`), numpy.newaxis (`None`) and integer or boolean arrays are valid indices",
     "output_type": "error",
     "traceback": [
      "\u001b[1;31m---------------------------------------------------------------------------\u001b[0m",
      "\u001b[1;31mIndexError\u001b[0m                                Traceback (most recent call last)",
      "\u001b[1;32mc:\\Users\\vinay\\OneDrive\\Documents\\GitHub\\Jharkhand_Migration\\Bengaluru_to_Jharkhand_Migration\\Jharkhand_migration.ipynb Cell 4\u001b[0m in \u001b[0;36m<cell line: 1>\u001b[1;34m()\u001b[0m\n\u001b[1;32m----> <a href='vscode-notebook-cell:/c%3A/Users/vinay/OneDrive/Documents/GitHub/Jharkhand_Migration/Bengaluru_to_Jharkhand_Migration/Jharkhand_migration.ipynb#W3sZmlsZQ%3D%3D?line=0'>1</a>\u001b[0m jharkhand_migration \u001b[39m=\u001b[39m jharkhand_migration\u001b[39m.\u001b[39mdrop(jharkhand_migration\u001b[39m.\u001b[39;49mcolumns[[\u001b[39m'\u001b[39;49m\u001b[39mName\u001b[39;49m\u001b[39m'\u001b[39;49m,\u001b[39m'\u001b[39;49m\u001b[39mDate\u001b[39;49m\u001b[39m'\u001b[39;49m]],axis \u001b[39m=\u001b[39m\u001b[39m1\u001b[39m)\n",
      "File \u001b[1;32mc:\\Users\\vinay\\anaconda3\\lib\\site-packages\\pandas\\core\\indexes\\base.py:5055\u001b[0m, in \u001b[0;36mIndex.__getitem__\u001b[1;34m(self, key)\u001b[0m\n\u001b[0;32m   5048\u001b[0m \u001b[39mif\u001b[39;00m com\u001b[39m.\u001b[39mis_bool_indexer(key):\n\u001b[0;32m   5049\u001b[0m     \u001b[39m# if we have list[bools, length=1e5] then doing this check+convert\u001b[39;00m\n\u001b[0;32m   5050\u001b[0m     \u001b[39m#  takes 166 µs + 2.1 ms and cuts the ndarray.__getitem__\u001b[39;00m\n\u001b[0;32m   5051\u001b[0m     \u001b[39m#  time below from 3.8 ms to 496 µs\u001b[39;00m\n\u001b[0;32m   5052\u001b[0m     \u001b[39m# if we already have ndarray[bool], the overhead is 1.4 µs or .25%\u001b[39;00m\n\u001b[0;32m   5053\u001b[0m     key \u001b[39m=\u001b[39m np\u001b[39m.\u001b[39masarray(key, dtype\u001b[39m=\u001b[39m\u001b[39mbool\u001b[39m)\n\u001b[1;32m-> 5055\u001b[0m result \u001b[39m=\u001b[39m getitem(key)\n\u001b[0;32m   5056\u001b[0m \u001b[39m# Because we ruled out integer above, we always get an arraylike here\u001b[39;00m\n\u001b[0;32m   5057\u001b[0m \u001b[39mif\u001b[39;00m result\u001b[39m.\u001b[39mndim \u001b[39m>\u001b[39m \u001b[39m1\u001b[39m:\n",
      "\u001b[1;31mIndexError\u001b[0m: only integers, slices (`:`), ellipsis (`...`), numpy.newaxis (`None`) and integer or boolean arrays are valid indices"
     ]
    }
   ],
   "source": [
    "jharkhand_migration = jharkhand_migration.drop(jharkhand_migration.columns[['Name','Date']],axis =1)"
   ]
  },
  {
   "cell_type": "code",
   "execution_count": null,
   "id": "de4cccf2",
   "metadata": {},
   "outputs": [],
   "source": []
  }
 ],
 "metadata": {
  "kernelspec": {
   "display_name": "base",
   "language": "python",
   "name": "python3"
  },
  "language_info": {
   "codemirror_mode": {
    "name": "ipython",
    "version": 3
   },
   "file_extension": ".py",
   "mimetype": "text/x-python",
   "name": "python",
   "nbconvert_exporter": "python",
   "pygments_lexer": "ipython3",
   "version": "3.9.12"
  },
  "vscode": {
   "interpreter": {
    "hash": "131f3d18372c23bc9956e159b8761a89791000b12ee129af51759eac7b6e0517"
   }
  }
 },
 "nbformat": 4,
 "nbformat_minor": 5
}
